{
 "cells": [
  {
   "cell_type": "markdown",
   "id": "78d935b1-37bb-4054-bc29-f86a6d92468a",
   "metadata": {},
   "source": [
    "# Object Creation\n",
    "\n",
    "The hardware build flow centers around the chip data object. This chip object is instantiated by calling the Chip() class constructor defined in the Core API"
   ]
  },
  {
   "cell_type": "code",
   "execution_count": null,
   "id": "9c43539c-75fd-45f2-8d62-215c7f4231c3",
   "metadata": {
    "execution": {
     "iopub.execute_input": "2024-04-20T15:45:28.887432Z",
     "iopub.status.busy": "2024-04-20T15:45:28.887159Z",
     "iopub.status.idle": "2024-04-20T15:45:29.338898Z",
     "shell.execute_reply": "2024-04-20T15:45:29.338125Z"
    },
    "tags": []
   },
   "outputs": [],
   "source": [
    "import siliconcompiler                    # import python package"
   ]
  },
  {
   "cell_type": "code",
   "execution_count": null,
   "id": "e8c5dffd-ba27-40d9-a58b-870b954f7c89",
   "metadata": {
    "execution": {
     "iopub.execute_input": "2024-04-20T15:45:29.341574Z",
     "iopub.status.busy": "2024-04-20T15:45:29.341286Z",
     "iopub.status.idle": "2024-04-20T15:45:29.348407Z",
     "shell.execute_reply": "2024-04-20T15:45:29.347726Z"
    },
    "tags": []
   },
   "outputs": [],
   "source": [
    "chip = siliconcompiler.Chip('heartbeat')  # create chip object"
   ]
  },
  {
   "cell_type": "code",
   "execution_count": null,
   "id": "73ac5e2c-1f7b-473b-88e4-168e7613bdbe",
   "metadata": {
    "execution": {
     "iopub.execute_input": "2024-04-20T15:45:29.350425Z",
     "iopub.status.busy": "2024-04-20T15:45:29.350252Z",
     "iopub.status.idle": "2024-04-20T15:45:29.353909Z",
     "shell.execute_reply": "2024-04-20T15:45:29.353233Z"
    },
    "tags": []
   },
   "outputs": [],
   "source": [
    "print(chip.top())"
   ]
  },
  {
   "cell_type": "markdown",
   "id": "221cdeaf",
   "metadata": {},
   "source": [
    "# Load target"
   ]
  },
  {
   "cell_type": "code",
   "execution_count": null,
   "id": "54f626a8-58f9-4cc3-bd7c-37492085c1fa",
   "metadata": {
    "execution": {
     "iopub.execute_input": "2024-04-20T15:45:29.355972Z",
     "iopub.status.busy": "2024-04-20T15:45:29.355801Z",
     "iopub.status.idle": "2024-04-20T15:45:29.666105Z",
     "shell.execute_reply": "2024-04-20T15:45:29.665062Z"
    }
   },
   "outputs": [],
   "source": [
    "chip.load_target('skywater130_demo')      # load predefined technology and flow target"
   ]
  },
  {
   "cell_type": "markdown",
   "id": "8af9fa66",
   "metadata": {},
   "source": [
    "# Define design files"
   ]
  },
  {
   "cell_type": "code",
   "execution_count": null,
   "id": "154ef6f1-c4c7-445c-9fe5-b01103318715",
   "metadata": {
    "execution": {
     "iopub.execute_input": "2024-04-20T15:45:29.668673Z",
     "iopub.status.busy": "2024-04-20T15:45:29.668461Z",
     "iopub.status.idle": "2024-04-20T15:45:29.674540Z",
     "shell.execute_reply": "2024-04-20T15:45:29.673691Z"
    },
    "tags": []
   },
   "outputs": [],
   "source": [
    "chip.input('/home/pgadfort/siliconcompiler/examples/heartbeat/heartbeat.v')                 # define list of source files\n",
    "chip.clock('clk', period=10)              # define clock speed of design"
   ]
  },
  {
   "cell_type": "code",
   "execution_count": null,
   "id": "6fb6bda4-4662-4ef9-9323-e2a736169842",
   "metadata": {
    "execution": {
     "iopub.execute_input": "2024-04-20T15:45:29.677126Z",
     "iopub.status.busy": "2024-04-20T15:45:29.676933Z",
     "iopub.status.idle": "2024-04-20T15:45:29.680848Z",
     "shell.execute_reply": "2024-04-20T15:45:29.679971Z"
    },
    "tags": []
   },
   "outputs": [],
   "source": [
    "#chip.set('option', 'remote', True)        # run remote in the cloud"
   ]
  },
  {
   "cell_type": "markdown",
   "id": "069fdc70",
   "metadata": {},
   "source": [
    "# Run"
   ]
  },
  {
   "cell_type": "code",
   "execution_count": null,
   "id": "7966f3c8-d78c-4be5-a45e-05fdd9b5c460",
   "metadata": {
    "execution": {
     "iopub.execute_input": "2024-04-20T15:45:29.683005Z",
     "iopub.status.busy": "2024-04-20T15:45:29.682843Z",
     "iopub.status.idle": "2024-04-20T15:46:46.787927Z",
     "shell.execute_reply": "2024-04-20T15:46:46.786505Z"
    },
    "tags": []
   },
   "outputs": [],
   "source": [
    "chip.run()                                # run compilation of design and target"
   ]
  },
  {
   "cell_type": "code",
   "execution_count": null,
   "id": "891bac3f-e3cf-444f-aca8-23ba7d023d5b",
   "metadata": {
    "execution": {
     "iopub.execute_input": "2024-04-20T15:46:46.791984Z",
     "iopub.status.busy": "2024-04-20T15:46:46.791671Z",
     "iopub.status.idle": "2024-04-20T15:46:47.734949Z",
     "shell.execute_reply": "2024-04-20T15:46:47.733899Z"
    },
    "tags": []
   },
   "outputs": [],
   "source": [
    "chip.summary()                            # print results summary"
   ]
  },
  {
   "cell_type": "markdown",
   "id": "094b3671",
   "metadata": {},
   "source": [
    "# View result"
   ]
  },
  {
   "cell_type": "code",
   "execution_count": null,
   "id": "a28b2e4b",
   "metadata": {
    "execution": {
     "iopub.execute_input": "2024-04-20T15:46:47.738431Z",
     "iopub.status.busy": "2024-04-20T15:46:47.737551Z",
     "iopub.status.idle": "2024-04-20T15:46:47.761300Z",
     "shell.execute_reply": "2024-04-20T15:46:47.760197Z"
    }
   },
   "outputs": [],
   "source": [
    "from IPython import display\n",
    "display.Image('/home/pgadfort/siliconcompiler/tutorials/build/heartbeat/job0/heartbeat.png')"
   ]
  }
 ],
 "metadata": {
  "kernelspec": {
   "display_name": "Python 3 (ipykernel)",
   "language": "python",
   "name": "python3"
  },
  "language_info": {
   "codemirror_mode": {
    "name": "ipython",
    "version": 3
   },
   "file_extension": ".py",
   "mimetype": "text/x-python",
   "name": "python",
   "nbconvert_exporter": "python",
   "pygments_lexer": "ipython3",
   "version": "3.10.12"
  }
 },
 "nbformat": 4,
 "nbformat_minor": 5
}
